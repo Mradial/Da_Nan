{
 "cells": [
  {
   "cell_type": "code",
   "execution_count": 28,
   "metadata": {},
   "outputs": [],
   "source": [
    "import cv2\n",
    "import numpy as np "
   ]
  },
  {
   "cell_type": "code",
   "execution_count": 17,
   "metadata": {},
   "outputs": [],
   "source": [
    "# 读取图像 \n",
    "# 文件路径转义\n",
    "image=cv2.imread(r\"C:\\Users\\17200\\Desktop\\Data_pool\\Cache\\peiqi.jpg\")"
   ]
  },
  {
   "cell_type": "code",
   "execution_count": 31,
   "metadata": {},
   "outputs": [
    {
     "name": "stdout",
     "output_type": "stream",
     "text": [
      "<class 'numpy.ndarray'>\n"
     ]
    }
   ],
   "source": [
    "print(type(image))"
   ]
  },
  {
   "cell_type": "code",
   "execution_count": 12,
   "metadata": {},
   "outputs": [
    {
     "data": {
      "text/plain": [
       "-1"
      ]
     },
     "execution_count": 12,
     "metadata": {},
     "output_type": "execute_result"
    }
   ],
   "source": [
    "# 显示图像\n",
    "cv2.imshow(\"demo\",image)\n",
    "\n",
    "# 窗口等待时间\n",
    "cv2.waitKey(0)"
   ]
  },
  {
   "cell_type": "code",
   "execution_count": 13,
   "metadata": {},
   "outputs": [],
   "source": [
    "#删除所有的窗口\n",
    "cv2.destroyAllWindows()"
   ]
  },
  {
   "cell_type": "code",
   "execution_count": 34,
   "metadata": {},
   "outputs": [
    {
     "data": {
      "text/plain": [
       "True"
      ]
     },
     "execution_count": 34,
     "metadata": {},
     "output_type": "execute_result"
    }
   ],
   "source": [
    "# 保存图像\n",
    "cv2.imwrite(r\"C:\\Users\\17200\\Desktop\\Resume\\peiqi2.jpg\",image)"
   ]
  },
  {
   "cell_type": "code",
   "execution_count": 16,
   "metadata": {},
   "outputs": [
    {
     "name": "stdout",
     "output_type": "stream",
     "text": [
      "[255 255 255]\n"
     ]
    }
   ],
   "source": [
    "# 读取像素\n",
    "# 灰度\n",
    "print(image[88,390])"
   ]
  },
  {
   "cell_type": "code",
   "execution_count": 20,
   "metadata": {},
   "outputs": [
    {
     "name": "stdout",
     "output_type": "stream",
     "text": [
      "211 191 233\n"
     ]
    }
   ],
   "source": [
    "# BGR图像，返回值为BGR的值\n",
    "blue=image[80,40,0]\n",
    "green=image[80,40,1]\n",
    "red=image[80,40,2]\n",
    "print(blue,green,red)"
   ]
  },
  {
   "cell_type": "code",
   "execution_count": 25,
   "metadata": {
    "collapsed": true
   },
   "outputs": [],
   "source": [
    "# 修改像素\n",
    "# 指定通道修改值\n",
    "# image[80,40,2]=200\n",
    "# 整体统一修改\n",
    "# image[80,40]=[0,0,0]\n",
    "image[8:100,4:100]=[255,0,0]"
   ]
  },
  {
   "cell_type": "code",
   "execution_count": 33,
   "metadata": {},
   "outputs": [],
   "source": [
    "# 基于mumpy的实践\n",
    "# 读取像素值\n",
    "blue=image.item(80,40,0)\n",
    "# 设定像素值\n",
    "image.itemset((80,40,0),200)"
   ]
  },
  {
   "cell_type": "code",
   "execution_count": 36,
   "metadata": {},
   "outputs": [
    {
     "name": "stdout",
     "output_type": "stream",
     "text": [
      "(547, 424, 3)\n",
      "695784\n",
      "uint8\n"
     ]
    }
   ],
   "source": [
    "# 图像的形状、像素数目、图像类型\n",
    "print(image.shape)\n",
    "print(image.size)\n",
    "print(image.dtype)"
   ]
  }
 ],
 "metadata": {
  "kernelspec": {
   "display_name": "ML",
   "language": "python",
   "name": "ml"
  },
  "language_info": {
   "codemirror_mode": {
    "name": "ipython",
    "version": 3
   },
   "file_extension": ".py",
   "mimetype": "text/x-python",
   "name": "python",
   "nbconvert_exporter": "python",
   "pygments_lexer": "ipython3",
   "version": "3.6.5"
  }
 },
 "nbformat": 4,
 "nbformat_minor": 2
}
