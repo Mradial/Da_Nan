{
 "cells": [
  {
   "cell_type": "markdown",
   "metadata": {},
   "source": [
    "# 图像腐蚀\n",
    "### 对象：二值图像、卷积核\n",
    "###  被扫描的原始图像中的像素点，只有卷积核对应的元素均值为1时，其值才会为1，否则值为0"
   ]
  },
  {
   "cell_type": "code",
   "execution_count": 1,
   "metadata": {
    "collapsed": true
   },
   "outputs": [],
   "source": [
    "# dst=cv2.erode(src,kernel,iterations)\n",
    "# 最后参数是迭代次数\n",
    "# kernel =np.ones((5,5,),np.unit8)\n",
    "import cv2\n",
    "import numpy as np"
   ]
  },
  {
   "cell_type": "code",
   "execution_count": 8,
   "metadata": {},
   "outputs": [],
   "source": [
    "image=cv2.imread(r\"C:\\Users\\17200\\Desktop\\Data_pool\\Cache\\peiqi.jpg\",cv2.IMREAD_UNCHANGED)\n",
    "kernel =np.ones((15,15))\n",
    "dst=cv2.erode(image,kernel,iterations=2)\n",
    "cv2.imshow(\"img\",dst)\n",
    "cv2.waitKey(0)\n",
    "cv2.destroyAllWindows()"
   ]
  },
  {
   "cell_type": "markdown",
   "metadata": {},
   "source": [
    "# 图像膨胀\n",
    "###  对腐蚀过的图像进行膨胀处理，可以去除噪声"
   ]
  },
  {
   "cell_type": "code",
   "execution_count": 14,
   "metadata": {},
   "outputs": [
    {
     "data": {
      "text/plain": [
       "True"
      ]
     },
     "execution_count": 14,
     "metadata": {},
     "output_type": "execute_result"
    }
   ],
   "source": [
    "# 图像膨胀\n",
    "## 对腐蚀过的图像进行膨胀处理，可以去除噪声\n",
    "image=cv2.imread(r\"C:\\Users\\17200\\Desktop\\Data_pool\\Cache\\li.jpg\",cv2.IMREAD_UNCHANGED)\n",
    "kernel =np.ones((15,15))\n",
    "dst=cv2.dilate(image,kernel,iterations=2)\n",
    "cv2.imshow(\"img\",dst)\n",
    "cv2.waitKey(0)\n",
    "cv2.destroyAllWindows()\n",
    "cv2.imwrite(r\"C:\\Users\\17200\\Desktop\\Resume\\li1.jpg\",dst)"
   ]
  },
  {
   "cell_type": "markdown",
   "metadata": {},
   "source": [
    "# 图像开运算\n",
    "###  先腐蚀后膨胀\n",
    "###   函数morphologyEx  :opening=cv2.morphologyEx(src,常量，kernel)"
   ]
  },
  {
   "cell_type": "code",
   "execution_count": 18,
   "metadata": {},
   "outputs": [],
   "source": [
    "image=cv2.imread(r\"C:\\Users\\17200\\Desktop\\Data_pool\\Cache\\peiqi.jpg\",cv2.IMREAD_UNCHANGED)\n",
    "kernel =np.ones((15,15))\n",
    "dst=cv2.morphologyEx(image,cv2.MORPH_OPEN,kernel)\n",
    "cv2.imshow(\"img\",dst)\n",
    "cv2.waitKey(0)\n",
    "cv2.destroyAllWindows()"
   ]
  },
  {
   "cell_type": "markdown",
   "metadata": {},
   "source": [
    "# 图像闭运算\n",
    "####  先膨胀后腐蚀"
   ]
  },
  {
   "cell_type": "code",
   "execution_count": 21,
   "metadata": {
    "collapsed": true
   },
   "outputs": [],
   "source": [
    "image=cv2.imread(r\"C:\\Users\\17200\\Desktop\\Data_pool\\Cache\\peiqi.jpg\",cv2.IMREAD_UNCHANGED)\n",
    "kernel =np.ones((15,15))\n",
    "dst=cv2.morphologyEx(image,cv2.MORPH_CLOSE,kernel)\n",
    "cv2.imshow(\"img\",dst)\n",
    "cv2.waitKey(0)\n",
    "cv2.destroyAllWindows()"
   ]
  },
  {
   "cell_type": "markdown",
   "metadata": {},
   "source": [
    "# 梯度运算\n",
    "### 分别作膨胀和腐蚀操作，之后使用膨胀减去腐蚀图像\n",
    "### 获取轮廓信息"
   ]
  },
  {
   "cell_type": "code",
   "execution_count": 22,
   "metadata": {},
   "outputs": [
    {
     "data": {
      "text/plain": [
       "True"
      ]
     },
     "execution_count": 22,
     "metadata": {},
     "output_type": "execute_result"
    }
   ],
   "source": [
    "image=cv2.imread(r\"C:\\Users\\17200\\Desktop\\Data_pool\\Cache\\peiqi.jpg\",cv2.IMREAD_UNCHANGED)\n",
    "kernel =np.ones((15,15))\n",
    "dst=cv2.morphologyEx(image,cv2.MORPH_GRADIENT,kernel)\n",
    "cv2.imshow(\"img\",dst)\n",
    "cv2.waitKey(0)\n",
    "cv2.destroyAllWindows()"
   ]
  },
  {
   "cell_type": "markdown",
   "metadata": {},
   "source": [
    "# 图像顶帽\n",
    "### 礼貌图像=原始图像-开运算图像\n",
    "### 获取噪音信息"
   ]
  },
  {
   "cell_type": "code",
   "execution_count": 24,
   "metadata": {},
   "outputs": [
    {
     "data": {
      "text/plain": [
       "True"
      ]
     },
     "execution_count": 24,
     "metadata": {},
     "output_type": "execute_result"
    }
   ],
   "source": [
    "image=cv2.imread(r\"C:\\Users\\17200\\Desktop\\Data_pool\\Cache\\peiqi.jpg\",cv2.IMREAD_UNCHANGED)\n",
    "kernel =np.ones((15,15))\n",
    "dst=cv2.morphologyEx(image,cv2.MORPH_TOPHAT,kernel)\n",
    "cv2.imshow(\"img\",dst)\n",
    "cv2.waitKey(0)\n",
    "cv2.destroyAllWindows()\n",
    "cv2.imwrite(r\"C:\\Users\\17200\\Desktop\\Resume\\li1.jpg\",dst)"
   ]
  },
  {
   "cell_type": "markdown",
   "metadata": {},
   "source": [
    "# 图像黑帽\n",
    "### 黑帽图像=闭运算图像-原始图像\n",
    "### 得到图像内部的小孔，或者前景色中的小黑点"
   ]
  },
  {
   "cell_type": "code",
   "execution_count": 25,
   "metadata": {},
   "outputs": [
    {
     "data": {
      "text/plain": [
       "True"
      ]
     },
     "execution_count": 25,
     "metadata": {},
     "output_type": "execute_result"
    }
   ],
   "source": [
    "image=cv2.imread(r\"C:\\Users\\17200\\Desktop\\Data_pool\\Cache\\peiqi.jpg\",cv2.IMREAD_UNCHANGED)\n",
    "kernel =np.ones((7,7))\n",
    "dst=cv2.morphologyEx(image,cv2.MORPH_BLACKHAT,kernel)\n",
    "# cv2.imshow(\"img\",dst)\n",
    "cv2.waitKey(0)\n",
    "cv2.destroyAllWindows()\n",
    "cv2.imwrite(r\"C:\\Users\\17200\\Desktop\\Resume\\li1.jpg\",dst)"
   ]
  }
 ],
 "metadata": {
  "kernelspec": {
   "display_name": "ML",
   "language": "python",
   "name": "ml"
  },
  "language_info": {
   "codemirror_mode": {
    "name": "ipython",
    "version": 3
   },
   "file_extension": ".py",
   "mimetype": "text/x-python",
   "name": "python",
   "nbconvert_exporter": "python",
   "pygments_lexer": "ipython3",
   "version": "3.6.5"
  }
 },
 "nbformat": 4,
 "nbformat_minor": 2
}
