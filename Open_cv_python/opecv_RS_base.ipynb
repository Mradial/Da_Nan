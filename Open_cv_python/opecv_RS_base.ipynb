{
 "cells": [
  {
   "cell_type": "markdown",
   "metadata": {},
   "source": [
    "# 阈值分割\n",
    "## 二进制阈值化、反二进制阈值化、截断阈值化、反_阈值化为零、阈值化为零\n",
    "## http://study.163.com/course/courseLearn.htm?courseId=1005317018&share=1&shareId=1025909605#/learn/video?lessonId=1052604482&courseId=1005317018"
   ]
  },
  {
   "cell_type": "markdown",
   "metadata": {},
   "source": [
    "# 函数threshoid\n",
    "## retval,dst=cv2.threshold(src,thresh,maxval,type)\n",
    "### retal,阈值 dst,处理结果\n",
    "### dst 原图像 ，threshold 阈值 ,maxval 最大值 ，type, 类型"
   ]
  },
  {
   "cell_type": "code",
   "execution_count": 2,
   "metadata": {
    "collapsed": true
   },
   "outputs": [],
   "source": [
    "import cv2\n",
    "import numpy as np "
   ]
  },
  {
   "cell_type": "code",
   "execution_count": 7,
   "metadata": {},
   "outputs": [
    {
     "name": "stdout",
     "output_type": "stream",
     "text": [
      "128.0\n"
     ]
    }
   ],
   "source": [
    "image=cv2.imread(r\"C:\\Users\\17200\\Desktop\\Data_pool\\Cache\\peiqi.jpg\",cv2.IMREAD_UNCHANGED)\n",
    "# 二进制阈值化\n",
    "# retval,dst=cv2.threshold(image,128,255,cv2.THRESH_BINARY)\n",
    "#反二进制阈值化\n",
    "# retval,dst=cv2.threshold(image,128,255,cv2.THRESH_BINARY_INV)\n",
    "#截断阈值化\n",
    "# retval,dst=cv2.threshold(image,128,255,cv2.THRESH_TRUNC)\n",
    "#反阈值化为零\n",
    "retval,dst=cv2.threshold(image,128,255,cv2.THRESH_TOZERO_INV)\n",
    "cv2.imshow(\"img\",dst)\n",
    "cv2.waitKey(0)\n",
    "cv2.destroyAllWindows()\n",
    "print(retval)"
   ]
  },
  {
   "cell_type": "markdown",
   "metadata": {},
   "source": [
    "# 图像平滑\n",
    "## 均值处理\n",
    "## 函数blur : 处理结果=cv2.blur(原始图像，核的大小)\n",
    "### 椒盐噪声"
   ]
  },
  {
   "cell_type": "code",
   "execution_count": 8,
   "metadata": {
    "collapsed": true
   },
   "outputs": [],
   "source": [
    "image=cv2.imread(r\"C:\\Users\\17200\\Desktop\\Data_pool\\Cache\\peiqi.jpg\",cv2.IMREAD_UNCHANGED)\n",
    "dst=cv2.blur(image,(5,5))\n",
    "cv2.imshow(\"img\",dst)\n",
    "cv2.waitKey(0)\n",
    "cv2.destroyAllWindows()"
   ]
  },
  {
   "cell_type": "markdown",
   "metadata": {},
   "source": [
    "## 方框滤波\n",
    "## 函数boxFliter : 处理结果=cv2.boxFilter(原始图像，目标图像深度，核的大小，normalize属性)\n",
    "###  normalize 是否进行归一化处理"
   ]
  },
  {
   "cell_type": "code",
   "execution_count": 11,
   "metadata": {
    "collapsed": true
   },
   "outputs": [],
   "source": [
    "image=cv2.imread(r\"C:\\Users\\17200\\Desktop\\Data_pool\\Cache\\peiqi.jpg\",cv2.IMREAD_UNCHANGED)\n",
    "# 默认进行归一化处理\n",
    "dst=cv2.boxFilter(image,-1,(2,2),normalize=0)\n",
    "cv2.imshow(\"img\",dst)\n",
    "cv2.waitKey(0)\n",
    "cv2.destroyAllWindows()"
   ]
  },
  {
   "cell_type": "markdown",
   "metadata": {},
   "source": [
    "## 高斯滤波\n",
    "## GaussianBlur函数\n",
    "### dst=cv2.GaussianBlur(src,ksize,sigmaX)\n",
    "### src 原图像 ，Ksize 核大小，奇数，sigmax,X方向方差，控制权重"
   ]
  },
  {
   "cell_type": "code",
   "execution_count": 15,
   "metadata": {
    "collapsed": true
   },
   "outputs": [],
   "source": [
    "image=cv2.imread(r\"C:\\Users\\17200\\Desktop\\Data_pool\\Cache\\peiqi.jpg\",cv2.IMREAD_UNCHANGED)\n",
    "dst=cv2.GaussianBlur(image,(15,15),0)\n",
    "cv2.imshow(\"img\",dst)\n",
    "cv2.waitKey(0)\n",
    "cv2.destroyAllWindows()"
   ]
  },
  {
   "cell_type": "markdown",
   "metadata": {},
   "source": [
    "## 中值滤波\n",
    "## dst=cv2.medianBlur(src,ksize)\n",
    "### ksize为比1大的奇数"
   ]
  },
  {
   "cell_type": "code",
   "execution_count": 18,
   "metadata": {
    "collapsed": true
   },
   "outputs": [],
   "source": [
    "image=cv2.imread(r\"C:\\Users\\17200\\Desktop\\Data_pool\\Cache\\peiqi.jpg\",cv2.IMREAD_UNCHANGED)\n",
    "dst=cv2.medianBlur(image,17)\n",
    "cv2.imshow(\"img\",dst)\n",
    "cv2.waitKey(0)\n",
    "cv2.destroyAllWindows()"
   ]
  }
 ],
 "metadata": {
  "kernelspec": {
   "display_name": "ML",
   "language": "python",
   "name": "ml"
  },
  "language_info": {
   "codemirror_mode": {
    "name": "ipython",
    "version": 3
   },
   "file_extension": ".py",
   "mimetype": "text/x-python",
   "name": "python",
   "nbconvert_exporter": "python",
   "pygments_lexer": "ipython3",
   "version": "3.6.5"
  }
 },
 "nbformat": 4,
 "nbformat_minor": 2
}
