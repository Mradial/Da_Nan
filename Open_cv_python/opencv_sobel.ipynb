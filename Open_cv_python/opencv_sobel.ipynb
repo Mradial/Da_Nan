{
 "cells": [
  {
   "cell_type": "markdown",
   "metadata": {},
   "source": [
    "#  sobel 算子\n",
    "### dst=cv2.Sobel(src,ddepth,dx,dy,[ksize])\n",
    "### ddepth 处理图像深度，一般为-1 但是cv2.CV_64F\n",
    "### http://study.163.com/course/courseLearn.htm?courseId=1005317018&share=1&shareId=1025909605#/learn/video?lessonId=1052908043&courseId=1005317018"
   ]
  },
  {
   "cell_type": "code",
   "execution_count": 12,
   "metadata": {},
   "outputs": [
    {
     "data": {
      "text/plain": [
       "True"
      ]
     },
     "execution_count": 12,
     "metadata": {},
     "output_type": "execute_result"
    }
   ],
   "source": [
    "import cv2\n",
    "image=cv2.imread(r\"C:\\Users\\17200\\Desktop\\Data_pool\\Cache\\huge.png\",cv2.IMREAD_UNCHANGED)\n",
    "# dst=cv2.Sobel(image,cv2.CV_64F,1,1)\n",
    "# sobel=cv2.convertScaleAbs(dst)\n",
    "\n",
    "dstx=cv2.Sobel(image,cv2.CV_64F,1,0)\n",
    "dsty=cv2.Sobel(image,cv2.CV_64F,0,1)\n",
    "sobelx=cv2.convertScaleAbs(dstx)\n",
    "sobely=cv2.convertScaleAbs(dsty)\n",
    "sobel=cv2.addWeighted(sobelx,0.5,sobely,0.5,0)\n",
    "\n",
    "# cv2.imshow(\"img\",dst)\n",
    "cv2.waitKey(0)\n",
    "cv2.destroyAllWindows()\n",
    "cv2.imwrite(r\"C:\\Users\\17200\\Desktop\\Resume\\h.jpg\",sobel)"
   ]
  },
  {
   "cell_type": "markdown",
   "metadata": {},
   "source": [
    "# scharr算子"
   ]
  },
  {
   "cell_type": "code",
   "execution_count": 16,
   "metadata": {},
   "outputs": [
    {
     "data": {
      "text/plain": [
       "True"
      ]
     },
     "execution_count": 16,
     "metadata": {},
     "output_type": "execute_result"
    }
   ],
   "source": [
    "import cv2\n",
    "image=cv2.imread(r\"C:\\Users\\17200\\Desktop\\Data_pool\\Cache\\radial.jpg\",cv2.IMREAD_UNCHANGED)\n",
    "# dst=cv2.Sobel(image,cv2.CV_64F,1,1)\n",
    "# sobel=cv2.convertScaleAbs(dst)\n",
    "\n",
    "dstx=cv2.Scharr(image,cv2.CV_64F,1,0)\n",
    "dsty=cv2.Scharr(image,cv2.CV_64F,0,1)\n",
    "Scharrx=cv2.convertScaleAbs(dstx)\n",
    "Scharry=cv2.convertScaleAbs(dsty)\n",
    "Scharr=cv2.addWeighted(Scharrx,0.5,Scharry,0.5,0)\n",
    "\n",
    "# cv2.imshow(\"img\",dst)\n",
    "cv2.waitKey(0)\n",
    "cv2.destroyAllWindows()\n",
    "cv2.imwrite(r\"C:\\Users\\17200\\Desktop\\Resume\\scharr.jpg\",sobel)"
   ]
  },
  {
   "cell_type": "code",
   "execution_count": null,
   "metadata": {
    "collapsed": true
   },
   "outputs": [],
   "source": []
  }
 ],
 "metadata": {
  "kernelspec": {
   "display_name": "ML",
   "language": "python",
   "name": "ml"
  },
  "language_info": {
   "codemirror_mode": {
    "name": "ipython",
    "version": 3
   },
   "file_extension": ".py",
   "mimetype": "text/x-python",
   "name": "python",
   "nbconvert_exporter": "python",
   "pygments_lexer": "ipython3",
   "version": "3.6.5"
  }
 },
 "nbformat": 4,
 "nbformat_minor": 2
}
