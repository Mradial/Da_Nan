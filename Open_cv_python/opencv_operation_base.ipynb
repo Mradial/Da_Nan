{
 "cells": [
  {
   "cell_type": "markdown",
   "metadata": {},
   "source": [
    "#  图像ROI\n",
    "## ROI 感兴趣区域\n",
    "## 从被处理的图像以方框、圆、椭圆、不规则多边形等方式勾勒出需要处理的区域\n",
    "## 可以通过各种算子（Operator）和其他函数求得感兴趣区域ROI,并进行图像处理"
   ]
  },
  {
   "cell_type": "code",
   "execution_count": 1,
   "metadata": {
    "collapsed": true
   },
   "outputs": [],
   "source": [
    "import cv2\n",
    "import numpy as np "
   ]
  },
  {
   "cell_type": "code",
   "execution_count": 7,
   "metadata": {
    "collapsed": true
   },
   "outputs": [],
   "source": [
    "image=cv2.imread(r\"C:\\Users\\17200\\Desktop\\Data_pool\\Cache\\peiqi.jpg\")\n",
    "ran=image[20:100,20:100]\n",
    "image[100:180,100:180]=ran\n",
    "\n",
    "cv2.imshow(\"ran\",ran)\n",
    "cv2.imshow(\"demo\",image)\n",
    "\n",
    "cv2.waitKey(0)\n",
    "cv2.destroyAllWindows()"
   ]
  },
  {
   "cell_type": "markdown",
   "metadata": {},
   "source": [
    "# 通道的拆分与合并"
   ]
  },
  {
   "cell_type": "code",
   "execution_count": null,
   "metadata": {
    "collapsed": true
   },
   "outputs": [],
   "source": [
    "# 拆分通道\n",
    "image=cv2.imread(r\"C:\\Users\\17200\\Desktop\\Data_pool\\Cache\\peiqi.jpg\")\n",
    "b=cv2.split(image)[0]\n",
    "g=cv2.split(image)[1]\n",
    "r=cv2.split(image)[2]\n",
    "cv2.imshow(\"r\",r)\n",
    "cv2.imshow(\"g\",g)\n",
    "cv2.imshow(\"b\",b)\n",
    "cv2.waitKey(0)\n",
    "cv2.destroyAllWindows()"
   ]
  },
  {
   "cell_type": "code",
   "execution_count": null,
   "metadata": {
    "collapsed": true
   },
   "outputs": [],
   "source": [
    "# 合并图像\n",
    "\n",
    "rgb=cv2.merge([r,g,b])\n",
    "bgr=cv2.merge([b,g,r])\n",
    "cv2.imshow(\"bgr\",bgr)\n",
    "cv2.imshow(\"rgb\",rgb)\n",
    "\n",
    "cv2.waitKey(0)\n",
    "cv2.destroyAllWindows()"
   ]
  },
  {
   "cell_type": "markdown",
   "metadata": {
    "collapsed": true
   },
   "source": [
    "# 加法运算\n",
    "## Numpy加法运算:取模运算\n",
    "### 像素值 < 255 --> 直接取值\n",
    "### 像素值>255--> 像素值%255\n",
    "## Opencv加法运算：饱和运算 \n",
    "### 方式一相同\n",
    "### 像素值>255--> 像素值==255"
   ]
  },
  {
   "cell_type": "code",
   "execution_count": 2,
   "metadata": {},
   "outputs": [],
   "source": [
    "import cv2\n",
    "import numpy as np \n",
    "image=cv2.imread(r\"C:\\Users\\17200\\Desktop\\Data_pool\\Cache\\peiqi.jpg\")\n",
    "b=cv2.split(image)[0]\n",
    "a=b \n",
    "add1=a+b\n",
    "add2=cv2.add(a,b)\n",
    "cv2.imshow(\"add1\",add1)\n",
    "cv2.imshow(\"add2\",add2)\n",
    "cv2.waitKey(0)\n",
    "cv2.destroyAllWindows()"
   ]
  },
  {
   "cell_type": "markdown",
   "metadata": {},
   "source": [
    "# 图像融合\n",
    "## 结果图像=图像1*系数1+图像2*系数2+亮度调节值\n",
    "## img=img1*0.3+img2*0.7+10"
   ]
  },
  {
   "cell_type": "code",
   "execution_count": 5,
   "metadata": {},
   "outputs": [],
   "source": [
    "# 读取的两个图像必须形状大小相同\n",
    "import cv2\n",
    "import numpy as np \n",
    "image=cv2.imread(r\"C:\\Users\\17200\\Desktop\\Data_pool\\Cache\\peiqi.jpg\")\n",
    "b=cv2.split(image)[0]\n",
    "g=cv2.split(image)[1]\n",
    "img=cv2.addWeighted(g,0.3,b,0.7,0)\n",
    "cv2.imshow(\"img\",img)\n",
    "cv2.waitKey(0)\n",
    "cv2.destroyAllWindows()"
   ]
  },
  {
   "cell_type": "markdown",
   "metadata": {},
   "source": [
    "# 图像类型转换"
   ]
  },
  {
   "cell_type": "code",
   "execution_count": 6,
   "metadata": {
    "collapsed": true
   },
   "outputs": [],
   "source": [
    "# 200多种转换方式\n",
    "#灰度转换\n",
    "import cv2\n",
    "image=cv2.imread(r\"C:\\Users\\17200\\Desktop\\Data_pool\\Cache\\peiqi.jpg\")\n",
    "b=cv2.cvtColor(image,cv2.COLOR_BGR2GRAY)\n",
    "cv2.imshow(\"img\",b)\n",
    "cv2.waitKey(0)\n",
    "cv2.destroyAllWindows()"
   ]
  },
  {
   "cell_type": "markdown",
   "metadata": {},
   "source": [
    "# 图像缩放"
   ]
  },
  {
   "cell_type": "code",
   "execution_count": 15,
   "metadata": {},
   "outputs": [],
   "source": [
    "# dst = cv2.resize(src,dsise,fx,fy)\n",
    "import cv2\n",
    "image=cv2.imread(r\"C:\\Users\\17200\\Desktop\\Data_pool\\Cache\\peiqi.jpg\")\n",
    "#设定行列\n",
    "# a=cv2.resize(image,(200,100))\n",
    "\n",
    "# 倍率的写法\n",
    "# rows,cols=image.shape[:2]\n",
    "# a=cv2.resize(image,(round(cols*0.5),round(rows*1.2)))\n",
    "\n",
    "# 第二个参数为NONE\n",
    "a=cv2.resize(image,None,fx=0.2,fy=0.7)\n",
    "cv2.imshow(\"img\",a)\n",
    "cv2.waitKey(0)\n",
    "cv2.destroyAllWindows()"
   ]
  },
  {
   "cell_type": "markdown",
   "metadata": {},
   "source": [
    "# 图像反转"
   ]
  },
  {
   "cell_type": "code",
   "execution_count": 18,
   "metadata": {
    "collapsed": true
   },
   "outputs": [],
   "source": [
    "# dst=cv2.flip(image,flipCode)\n",
    "# 0 -- 沿X轴反转\n",
    "# -1-- 沿Y与X轴反转\n",
    "# 1 -- 沿y轴反转\n",
    "import cv2\n",
    "image=cv2.imread(r\"C:\\Users\\17200\\Desktop\\Data_pool\\Cache\\peiqi.jpg\")\n",
    "a=cv2.flip(image,1)\n",
    "cv2.imshow(\"img\",a)\n",
    "cv2.waitKey(0)\n",
    "cv2.destroyAllWindows()"
   ]
  },
  {
   "cell_type": "code",
   "execution_count": null,
   "metadata": {
    "collapsed": true
   },
   "outputs": [],
   "source": []
  }
 ],
 "metadata": {
  "kernelspec": {
   "display_name": "ML",
   "language": "python",
   "name": "ml"
  },
  "language_info": {
   "codemirror_mode": {
    "name": "ipython",
    "version": 3
   },
   "file_extension": ".py",
   "mimetype": "text/x-python",
   "name": "python",
   "nbconvert_exporter": "python",
   "pygments_lexer": "ipython3",
   "version": "3.6.5"
  }
 },
 "nbformat": 4,
 "nbformat_minor": 2
}
